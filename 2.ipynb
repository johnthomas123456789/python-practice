{
 "cells": [
  {
   "cell_type": "markdown",
   "id": "9d7bf916",
   "metadata": {},
   "source": [
    "# CHapter 1 Ex.\n",
    "problems 1, 3, 4"
   ]
  },
  {
   "cell_type": "markdown",
   "id": "6080b4b9",
   "metadata": {},
   "source": [
    "## EX1"
   ]
  },
  {
   "cell_type": "code",
   "execution_count": 2,
   "id": "c37c26bd",
   "metadata": {},
   "outputs": [
    {
     "name": "stdout",
     "output_type": "stream",
     "text": [
      "This is a test of the Python interpreter\n"
     ]
    }
   ],
   "source": [
    "print ('This is a test of the Python interpreter')"
   ]
  },
  {
   "cell_type": "code",
   "execution_count": 4,
   "id": "0eca2812",
   "metadata": {},
   "outputs": [
    {
     "name": "stdout",
     "output_type": "stream",
     "text": [
      "this might work:  9\n"
     ]
    }
   ],
   "source": [
    "print ('this might work: ',9)"
   ]
  },
  {
   "cell_type": "code",
   "execution_count": 5,
   "id": "14eb4d29",
   "metadata": {},
   "outputs": [
    {
     "name": "stdout",
     "output_type": "stream",
     "text": [
      "my favorite color is blue\n"
     ]
    }
   ],
   "source": [
    "print ('my favorite color is blue')\n"
   ]
  },
  {
   "cell_type": "markdown",
   "id": "6a26753c",
   "metadata": {},
   "source": [
    "## EX3"
   ]
  },
  {
   "cell_type": "markdown",
   "id": "90ca0019-4a6d-4481-b3b2-137d8e942da2",
   "metadata": {},
   "source": [
    "### Question"
   ]
  },
  {
   "cell_type": "markdown",
   "id": "96e0e0a2-197d-4b1c-bd42-9068a7d2df53",
   "metadata": {},
   "source": [
    "Use what you’ve learned about the binary numbering system in this chapter to convert the following decimal numbers to binary: 11, 65, 100, 255"
   ]
  },
  {
   "cell_type": "markdown",
   "id": "50a4dd93-43f2-4b24-b6b2-bef2b1c83d0c",
   "metadata": {},
   "source": [
    "### Overview"
   ]
  },
  {
   "cell_type": "markdown",
   "id": "0b09c046-58e6-4d46-8090-e0c99f6df7c8",
   "metadata": {},
   "source": [
    "As i was working on this question i went through section 1.3 of the textbook to gain a better understanding of how to complete the code. I found out that it goes up by the power of 2 and you read from right to left instead of left to right which I thought was very interesting."
   ]
  },
  {
   "cell_type": "code",
   "execution_count": 32,
   "id": "a993641a-48c0-4668-ad68-31868f8a6cc0",
   "metadata": {
    "tags": []
   },
   "outputs": [
    {
     "name": "stdout",
     "output_type": "stream",
     "text": [
      "1011\n"
     ]
    }
   ],
   "source": [
    "print ('1011')"
   ]
  },
  {
   "cell_type": "markdown",
   "id": "e95aa926-83e7-4798-b25e-6be86fd6c5a1",
   "metadata": {},
   "source": [
    "to find 11's binary number i added together 2^0,1,3 to find 11"
   ]
  },
  {
   "cell_type": "code",
   "execution_count": 35,
   "id": "8b54035b-49f3-406c-8aa9-6d09939c891f",
   "metadata": {
    "tags": []
   },
   "outputs": [
    {
     "name": "stdout",
     "output_type": "stream",
     "text": [
      "1000001\n"
     ]
    }
   ],
   "source": [
    "print ('1000001')"
   ]
  },
  {
   "cell_type": "markdown",
   "id": "dd6db986-aa6e-4027-a652-790e98ee7941",
   "metadata": {},
   "source": [
    "i found 65's binary number by adding together 2^0 and 2^6 "
   ]
  },
  {
   "cell_type": "code",
   "execution_count": 38,
   "id": "a3d3756e-6352-4bdb-9e88-2b9ae95ed2fb",
   "metadata": {
    "tags": []
   },
   "outputs": [
    {
     "name": "stdout",
     "output_type": "stream",
     "text": [
      "1100100\n"
     ]
    }
   ],
   "source": [
    "print ('1100100')"
   ]
  },
  {
   "cell_type": "markdown",
   "id": "7641111d-5869-4b4a-a1f4-54cacbab40c1",
   "metadata": {},
   "source": [
    "i found 100's binary number by adding 2^2, 2^5, 2^6"
   ]
  },
  {
   "cell_type": "code",
   "execution_count": 43,
   "id": "86509eca-60b7-41ce-9d07-35b086b0dd38",
   "metadata": {
    "tags": []
   },
   "outputs": [
    {
     "name": "stdout",
     "output_type": "stream",
     "text": [
      "11111111\n"
     ]
    }
   ],
   "source": [
    "print ('11111111')"
   ]
  },
  {
   "cell_type": "markdown",
   "id": "b69e8a2d-1ed2-4206-893c-90646c377b70",
   "metadata": {},
   "source": [
    "to find 255 binary number I added together 2^0,2^1,2^2,2^3,2^4,2^5,2^6,2^7"
   ]
  },
  {
   "cell_type": "markdown",
   "id": "c282b332-49c3-4300-9f8d-45c6ce4f3c55",
   "metadata": {},
   "source": [
    "## Question"
   ]
  },
  {
   "cell_type": "markdown",
   "id": "628c93e1-f664-4258-a91c-03e1e0abfca5",
   "metadata": {},
   "source": [
    "# Ex 4"
   ]
  },
  {
   "cell_type": "markdown",
   "id": "c867470f-4ac1-4c86-b5c1-5a11d03fb729",
   "metadata": {},
   "source": [
    "#### Use what you’ve learned about the binary numbering system in this chapter to convert the following binary numbers to decimal: 1101,1000,101001"
   ]
  },
  {
   "cell_type": "markdown",
   "id": "f08d93c5-8793-4246-8960-02d786e28402",
   "metadata": {},
   "source": [
    "### Overview"
   ]
  },
  {
   "cell_type": "markdown",
   "id": "62464385-424a-42aa-975d-84a24853de5b",
   "metadata": {},
   "source": [
    "I used the same techniques as i did in problem 3 but this time i just reversed my thought process because i was given the decimal instead of the binary number."
   ]
  },
  {
   "cell_type": "code",
   "execution_count": 54,
   "id": "2cecc00e-a57f-40ea-913e-da61f90f35ee",
   "metadata": {
    "tags": []
   },
   "outputs": [
    {
     "name": "stdout",
     "output_type": "stream",
     "text": [
      "13\n"
     ]
    }
   ],
   "source": [
    "print ('13')"
   ]
  },
  {
   "cell_type": "markdown",
   "id": "2688b674-3610-40e6-a1e1-a4400323cf57",
   "metadata": {},
   "source": [
    "1101 is 13 because i added 2^3,2^2,2^1,2^0"
   ]
  },
  {
   "cell_type": "code",
   "execution_count": 57,
   "id": "64692779-71ca-4ca7-9e28-d4f4f22cf500",
   "metadata": {
    "tags": []
   },
   "outputs": [
    {
     "name": "stdout",
     "output_type": "stream",
     "text": [
      "8\n"
     ]
    }
   ],
   "source": [
    "print ('8')"
   ]
  },
  {
   "cell_type": "markdown",
   "id": "a4ce22e6-a5cb-46a6-afdf-4969cd312a0c",
   "metadata": {
    "tags": []
   },
   "source": [
    "it is 8 because i added 2^3,2^2,2^1,2^0"
   ]
  },
  {
   "cell_type": "code",
   "execution_count": 62,
   "id": "136ac03e-47f8-44a5-ac74-18c9b41c60f3",
   "metadata": {
    "tags": []
   },
   "outputs": [
    {
     "name": "stdout",
     "output_type": "stream",
     "text": [
      "41\n"
     ]
    }
   ],
   "source": [
    "print ('41')"
   ]
  },
  {
   "cell_type": "markdown",
   "id": "7006b051-a31f-4881-b0d3-0290ecb567c8",
   "metadata": {},
   "source": [
    "i got 41 because i did 2^5,2^4,2^3,2^2,2^1,2^0"
   ]
  }
 ],
 "metadata": {
  "kernelspec": {
   "display_name": "Python 3 (ipykernel)",
   "language": "python",
   "name": "python3"
  },
  "language_info": {
   "codemirror_mode": {
    "name": "ipython",
    "version": 3
   },
   "file_extension": ".py",
   "mimetype": "text/x-python",
   "name": "python",
   "nbconvert_exporter": "python",
   "pygments_lexer": "ipython3",
   "version": "3.11.7"
  }
 },
 "nbformat": 4,
 "nbformat_minor": 5
}
