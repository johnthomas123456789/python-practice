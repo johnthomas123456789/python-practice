{
 "cells": [
  {
   "cell_type": "markdown",
   "id": "acf7fcd0",
   "metadata": {},
   "source": [
    "# Week 2 Questions"
   ]
  },
  {
   "cell_type": "markdown",
   "id": "e558dfcd",
   "metadata": {},
   "source": [
    "## Question 1 "
   ]
  },
  {
   "cell_type": "markdown",
   "id": "1ba1ec37",
   "metadata": {},
   "source": [
    "## Write Python code that prompts the user to enter his or her height and assigns the user’s input to a variable named Height."
   ]
  },
  {
   "cell_type": "code",
   "execution_count": null,
   "id": "02688d41",
   "metadata": {},
   "outputs": [],
   "source": [
    "height = input(\"Please enter your height: \")"
   ]
  },
  {
   "cell_type": "markdown",
   "id": "981fec98",
   "metadata": {},
   "source": [
    "the way i completed this problem was by using theinput function. I chose to use the function where you fill in the blank which i learned how to do in chapter 2."
   ]
  },
  {
   "cell_type": "markdown",
   "id": "b58f5cd3",
   "metadata": {},
   "source": [
    "## Question 2 "
   ]
  },
  {
   "cell_type": "markdown",
   "id": "4adc5de8",
   "metadata": {},
   "source": [
    "## Write a program that displays the following information for a student:  NameAddress, with city, state, and ZIPTelephone numberCollege major"
   ]
  },
  {
   "cell_type": "code",
   "execution_count": null,
   "id": "16060b91",
   "metadata": {},
   "outputs": [],
   "source": [
    "name = input(\"Enter your name: \")"
   ]
  },
  {
   "cell_type": "markdown",
   "id": "bbe569f2",
   "metadata": {},
   "source": [
    "jopse thomaso"
   ]
  },
  {
   "cell_type": "code",
   "execution_count": null,
   "id": "f16a5c36",
   "metadata": {},
   "outputs": [],
   "source": [
    "address = input(\"Enter your address (with city, state, and ZIP): \")"
   ]
  },
  {
   "cell_type": "markdown",
   "id": "879f36f0",
   "metadata": {},
   "source": [
    "114 buckcreek road, indianapolis, indiana, 46229"
   ]
  },
  {
   "cell_type": "code",
   "execution_count": null,
   "id": "351bdcf8",
   "metadata": {},
   "outputs": [],
   "source": [
    "telephone_number = input(\"Enter your telephone number: \")"
   ]
  },
  {
   "cell_type": "markdown",
   "id": "55053200",
   "metadata": {},
   "source": [
    "123-987-5643"
   ]
  },
  {
   "cell_type": "code",
   "execution_count": null,
   "id": "88fb9210",
   "metadata": {},
   "outputs": [],
   "source": [
    "college_major = input(\"Enter your college major: \")"
   ]
  },
  {
   "cell_type": "markdown",
   "id": "4aefa753",
   "metadata": {},
   "source": [
    "finance"
   ]
  },
  {
   "cell_type": "markdown",
   "id": "aa4cc4fa",
   "metadata": {},
   "source": [
    "## Question 3"
   ]
  },
  {
   "cell_type": "markdown",
   "id": "2d894df4",
   "metadata": {},
   "source": [
    "###  Write a program that makes the calculation for the vineyard owner. The program should ask the user to input the following:"
   ]
  },
  {
   "cell_type": "code",
   "execution_count": null,
   "id": "6062fa8d",
   "metadata": {},
   "outputs": [],
   "source": [
    "row_length = float(input(\"Enter the length of the row, in feet: \"))"
   ]
  },
  {
   "cell_type": "markdown",
   "id": "7ac01fdc",
   "metadata": {},
   "source": [
    "4 feet"
   ]
  },
  {
   "cell_type": "code",
   "execution_count": null,
   "id": "6210511a",
   "metadata": {},
   "outputs": [],
   "source": [
    "end_post_space = float(input(\"Enter the amount of space used by an end-post assembly, in feet: \"))"
   ]
  },
  {
   "cell_type": "markdown",
   "id": "998bef3a",
   "metadata": {},
   "source": [
    "6 feet"
   ]
  },
  {
   "cell_type": "code",
   "execution_count": null,
   "id": "e1525b95",
   "metadata": {},
   "outputs": [],
   "source": [
    "space_between_vines = float(input(\"Enter the amount of space between the vines, in feet: \"))"
   ]
  },
  {
   "cell_type": "markdown",
   "id": "6c9b01ed",
   "metadata": {},
   "source": [
    "2 feet"
   ]
  },
  {
   "cell_type": "code",
   "execution_count": null,
   "id": "1a39b67a",
   "metadata": {},
   "outputs": [],
   "source": [
    "print(f\"\\nThe number of grapevines that will fit in the row is: {int(number_of_vines)}\")"
   ]
  },
  {
   "cell_type": "markdown",
   "id": "984dbd3e",
   "metadata": {},
   "source": [
    "6 feet"
   ]
  }
 ],
 "metadata": {
  "kernelspec": {
   "display_name": "Python 3 (ipykernel)",
   "language": "python",
   "name": "python3"
  },
  "language_info": {
   "codemirror_mode": {
    "name": "ipython",
    "version": 3
   },
   "file_extension": ".py",
   "mimetype": "text/x-python",
   "name": "python",
   "nbconvert_exporter": "python",
   "pygments_lexer": "ipython3",
   "version": "3.11.7"
  }
 },
 "nbformat": 4,
 "nbformat_minor": 5
}
