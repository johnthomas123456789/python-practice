{
 "cells": [
  {
   "cell_type": "markdown",
   "id": "e4004b78",
   "metadata": {},
   "source": [
    "# CHapter 1 Ex.\n",
    "problems 1, 3, 4"
   ]
  },
  {
   "cell_type": "markdown",
   "id": "ba9aa189",
   "metadata": {},
   "source": [
    "## EX1"
   ]
  },
  {
   "cell_type": "code",
   "execution_count": 2,
   "id": "c265f2ac",
   "metadata": {},
   "outputs": [
    {
     "name": "stdout",
     "output_type": "stream",
     "text": [
      "This is a test of the Python interpreter\n"
     ]
    }
   ],
   "source": [
    "print ('This is a test of the Python interpreter')"
   ]
  },
  {
   "cell_type": "code",
   "execution_count": 3,
   "id": "3aa2b0dd",
   "metadata": {},
   "outputs": [
    {
     "name": "stdout",
     "output_type": "stream",
     "text": [
      "this might work:  9\n"
     ]
    }
   ],
   "source": [
    "print ('this might work: ',9)"
   ]
  },
  {
   "cell_type": "markdown",
   "id": "0b7e2fa5",
   "metadata": {},
   "source": [
    "## EX3"
   ]
  },
  {
   "cell_type": "code",
   "execution_count": null,
   "id": "f82ee3e4",
   "metadata": {},
   "outputs": [],
   "source": []
  }
 ],
 "metadata": {
  "kernelspec": {
   "display_name": "Python 3 (ipykernel)",
   "language": "python",
   "name": "python3"
  },
  "language_info": {
   "codemirror_mode": {
    "name": "ipython",
    "version": 3
   },
   "file_extension": ".py",
   "mimetype": "text/x-python",
   "name": "python",
   "nbconvert_exporter": "python",
   "pygments_lexer": "ipython3",
   "version": "3.11.7"
  }
 },
 "nbformat": 4,
 "nbformat_minor": 5
}
