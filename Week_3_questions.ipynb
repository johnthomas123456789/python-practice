{
  "nbformat": 4,
  "nbformat_minor": 0,
  "metadata": {
    "colab": {
      "provenance": [],
      "authorship_tag": "ABX9TyPeYi26Z09lQwcd2qYmIOqw",
      "include_colab_link": true
    },
    "kernelspec": {
      "name": "python3",
      "display_name": "Python 3"
    },
    "language_info": {
      "name": "python"
    }
  },
  "cells": [
    {
      "cell_type": "markdown",
      "metadata": {
        "id": "view-in-github",
        "colab_type": "text"
      },
      "source": [
        "<a href=\"https://colab.research.google.com/github/johnthomas123456789/python-practice/blob/main/Week_3_questions.ipynb\" target=\"_parent\"><img src=\"https://colab.research.google.com/assets/colab-badge.svg\" alt=\"Open In Colab\"/></a>"
      ]
    },
    {
      "cell_type": "markdown",
      "source": [
        "Workbench Algorithm question 4"
      ],
      "metadata": {
        "id": "kuMMG0EuvS9i"
      }
    },
    {
      "cell_type": "markdown",
      "source": [
        "The following code contains several nested if-else statements. Unfortunately, it was written without proper alignment and indentation. Rewrite the code and use the proper conventions of alignment and indentation.\n",
        "if score >= A_score:\n",
        "print('Your grade is A.')\n",
        "else:\n",
        "if score >= B_score:\n",
        "print('Your grade is B.')\n",
        "else:\n",
        "if score >= C_score:\n",
        "print('Your grade is C.')\n",
        "else:\n",
        "if score >= D_score:\n",
        "print('Your grade is D.')\n",
        "else:\n",
        "print('Your grade is F.')"
      ],
      "metadata": {
        "id": "9LNPnMXIshx8"
      }
    },
    {
      "cell_type": "markdown",
      "source": [
        "High-Level Overview: I learned how to properly align and indent nested if-else statements from Chapter 3 of \"Pearson eText for Starting Out With Python, 6e.\" This chapter covers the fundamentals of decision structures, including the use of if, else, and elif statements. The detailed explanations and examples provided in sections 3.1 through 3.3 helped me understand how to structure my code correctly and practice writing well-indented, readable Python code."
      ],
      "metadata": {
        "id": "hmwZyqf1zeH6"
      }
    },
    {
      "cell_type": "code",
      "execution_count": 8,
      "metadata": {
        "colab": {
          "base_uri": "https://localhost:8080/"
        },
        "id": "sl6-MYxNq0Wz",
        "outputId": "a1bfe1d8-d034-422a-d218-96f078978c7f"
      },
      "outputs": [
        {
          "output_type": "stream",
          "name": "stdout",
          "text": [
            "Your grade is B.\n"
          ]
        }
      ],
      "source": [
        "# Define the score thresholds\n",
        "A_score = 90\n",
        "B_score = 80\n",
        "C_score = 70\n",
        "D_score = 60\n",
        "\n",
        "# Define the score (you can change this value to test different scenarios)\n",
        "score = 85\n",
        "\n",
        "# Determine the grade based on the score\n",
        "if score >= A_score:\n",
        "    print('Your grade is A.')\n",
        "else:\n",
        "    if score >= B_score:\n",
        "        print('Your grade is B.')\n",
        "    else:\n",
        "        if score >= C_score:\n",
        "            print('Your grade is C.')\n",
        "        else:\n",
        "            if score >= D_score:\n",
        "                print('Your grade is D.')\n",
        "            else:\n",
        "                print('Your grade is F.')"
      ]
    },
    {
      "cell_type": "markdown",
      "source": [
        "Algroithm Workbench question 5"
      ],
      "metadata": {
        "id": "jSsOHiLAt-AB"
      }
    },
    {
      "cell_type": "markdown",
      "source": [
        "Write nested decision structures that perform the following: If amount1 is greater than 10 and amount2 is less than 100, display the greater of amount1 and amount2."
      ],
      "metadata": {
        "id": "b74kNgSlv8Fo"
      }
    },
    {
      "cell_type": "markdown",
      "source": [
        "High-Level Overview: I learned how to write nested decision structures from Chapter 3 of \"Pearson eText for Starting Out With Python, 6e.\" This chapter explains how to use if, else, and elif statements to make complex decisions in your code. By following the examples and exercises in sections 3.1 through 3.3, I was able to understand how to nest these statements to compare values and display the appropriate results based on multiple conditions."
      ],
      "metadata": {
        "id": "eixqyJHE0OmA"
      }
    },
    {
      "cell_type": "code",
      "source": [
        "amount1 = 20  # You can assign any value to amount1\n",
        "amount2 = 50  # You can assign any value to amount2\n",
        "\n",
        "if amount1 > 10:\n",
        "    if amount2 < 100:\n",
        "        if amount1 > amount2:\n",
        "            print(\"The greater value is:\", amount1)\n",
        "        else:\n",
        "            print(\"The greater value is:\", amount2)"
      ],
      "metadata": {
        "colab": {
          "base_uri": "https://localhost:8080/"
        },
        "id": "b-SOfmqbq4n3",
        "outputId": "14453c16-7b6e-443f-ab5c-cbea723130ff"
      },
      "execution_count": 9,
      "outputs": [
        {
          "output_type": "stream",
          "name": "stdout",
          "text": [
            "The greater value is: 50\n"
          ]
        }
      ]
    },
    {
      "cell_type": "markdown",
      "source": [
        "Programming exercises question 1"
      ],
      "metadata": {
        "id": "N33s1MLVwg6Z"
      }
    },
    {
      "cell_type": "markdown",
      "source": [
        "1. Day of the Week. Write a program that asks the user for a number in the range of 1 through 7. The program should display the corresponding day of the week, where 1 = Monday, 2 = Tuesday, 3 = Wednesday, 4 = Thursday, 5 = Friday, 6 = Saturday, and 7 = Sunday. The program should display an error message if the user enters a number that is outside the range of 1 through 7."
      ],
      "metadata": {
        "id": "990jjIyxwvMO"
      }
    },
    {
      "cell_type": "markdown",
      "source": [
        "High-Level Overview: I learned how to write a program to display the corresponding day of the week from Chapter 3 of \"Pearson eText for Starting Out With Python, 6e.\" This chapter covers the use of if, else, and elif statements for decision-making in Python. By studying the examples and practicing the exercises in sections 3.1 through 3.3, I gained the skills to prompt the user for input, validate the input, and use conditional statements to display the correct day or an error message for invalid inputs."
      ],
      "metadata": {
        "id": "EjEpgveH0eBd"
      }
    },
    {
      "cell_type": "code",
      "source": [
        "# Ask the user for a number in the range of 1 through 7\n",
        "number = int(input(\"Enter a number between 1 and 7: \"))\n",
        "\n",
        "# Determine and display the corresponding day of the week\n",
        "if number == 1:\n",
        "    print(\"Monday\")\n",
        "elif number == 2:\n",
        "    print(\"Tuesday\")\n",
        "elif number == 3:\n",
        "    print(\"Wednesday\")\n",
        "elif number == 4:\n",
        "    print(\"Thursday\")\n",
        "elif number == 5:\n",
        "    print(\"Friday\")\n",
        "elif number == 6:\n",
        "    print(\"Saturday\")\n",
        "elif number == 7:\n",
        "    print(\"Sunday\")\n",
        "else:\n",
        "    # Display an error message if the number is outside the range\n",
        "    print(\"Error: The number you entered is outside the range of 1 through 7.\")"
      ],
      "metadata": {
        "colab": {
          "base_uri": "https://localhost:8080/"
        },
        "id": "snkyLxYZsFgH",
        "outputId": "13fe9c90-186e-4786-c29a-d9663d1cd05d"
      },
      "execution_count": 10,
      "outputs": [
        {
          "output_type": "stream",
          "name": "stdout",
          "text": [
            "Enter a number between 1 and 7: 6\n",
            "Saturday\n"
          ]
        }
      ]
    },
    {
      "cell_type": "markdown",
      "source": [
        "Programming exercises question 5"
      ],
      "metadata": {
        "id": "Y-fJXsRSxIhj"
      }
    },
    {
      "cell_type": "markdown",
      "source": [
        "5.Mass and Weight. Scientists measure an object’s mass in kilograms and its weight in newtons. If you know the amount of mass of an object in kilograms, you can calculate its weight in newtons with the following formula: weight = mass x 9.8. Write a program that asks the user to enter an object’s mass, then calculates its weight. If the object weighs more than 500 newtons, display a message indicating that it is too heavy. If the object weighs less than 100 newtons, display a message indicating that it is too light"
      ],
      "metadata": {
        "id": "Ixg01xxKxOMn"
      }
    },
    {
      "cell_type": "markdown",
      "source": [
        "High-Level Overview:I learned how to write a program to calculate an object's weight and display appropriate messages from Chapter 3 of \"Pearson eText for Starting Out With Python, 6e.\" This chapter focuses on decision structures, including if, else, and elif statements. By working through the examples and exercises in sections 3.1 through 3.3, I understood how to prompt the user for input, perform calculations, and use conditional statements to check the calculated weight and display messages based on specific conditions."
      ],
      "metadata": {
        "id": "i7J3I2pY0sTD"
      }
    },
    {
      "cell_type": "code",
      "source": [
        "# Get the mass of the object from the user\n",
        "mass = float(input(\"Enter the mass of the object in kilograms: \"))\n",
        "\n",
        "# Calculate the weight in newtons\n",
        "weight = mass * 9.8\n",
        "\n",
        "# Display the weight\n",
        "print(f\"The weight of the object is {weight} newtons.\")\n",
        "\n",
        "# Check if the weight is too heavy or too light and display appropriate message\n",
        "if weight > 500:\n",
        "    print(\"The object is too heavy.\")\n",
        "elif weight < 100:\n",
        "    print(\"The object is too light.\")"
      ],
      "metadata": {
        "colab": {
          "base_uri": "https://localhost:8080/"
        },
        "id": "8VOOr2PzxA__",
        "outputId": "cde4d342-1e74-40e4-ea64-040f935da378"
      },
      "execution_count": 11,
      "outputs": [
        {
          "output_type": "stream",
          "name": "stdout",
          "text": [
            "Enter the mass of the object in kilograms: 42\n",
            "The weight of the object is 411.6 newtons.\n"
          ]
        }
      ]
    },
    {
      "cell_type": "markdown",
      "source": [
        "Programming exercises question 15"
      ],
      "metadata": {
        "id": "oWnh36KEx0k8"
      }
    },
    {
      "cell_type": "markdown",
      "source": [
        "The month of February normally has 28 days. But if it is a leap year, February has 29 days. Write a program that asks the user to enter a year. The program should then display the number of days in February that year. Use the following criteria to identify leap years:  1.Determine whether the year is divisible by 100. If it is, then it is a leap year if and only if it is also divisible by 400. For example, 2000 is a leap year, but 2100 is not. 2.If the year is not divisible by 100, then it is a leap year if and only if it is divisible by 4. For example, 2008 is a leap year, but 2009 is not.Here is a sample run of the program: Enter a year: 2008 [Enter] In 2008 February has 29 days."
      ],
      "metadata": {
        "id": "K-LZcDRVyCjR"
      }
    },
    {
      "cell_type": "markdown",
      "source": [
        "High-Level Overview: I learned how to write a program to determine the number of days in February for a given year from Chapter 3 of \"Pearson eText for Starting Out With Python, 6e.\" This chapter covers the use of if, else, and elif statements for making decisions based on multiple conditions. By following the examples and practicing the exercises in sections 3.1 through 3.3, I was able to understand how to prompt the user for input, use conditional logic to check if a year is a leap year, and display the correct number of days in February accordingly."
      ],
      "metadata": {
        "id": "6ipIL6N10_Lx"
      }
    },
    {
      "cell_type": "code",
      "source": [
        "# Ask the user to enter a year\n",
        "year = int(input(\"Enter a year: \"))\n",
        "\n",
        "# Determine if the year is a leap year\n",
        "if (year % 100 == 0):\n",
        "    if (year % 400 == 0):\n",
        "        leap_year = True\n",
        "    else:\n",
        "        leap_year = False\n",
        "else:\n",
        "    if (year % 4 == 0):\n",
        "        leap_year = True\n",
        "    else:\n",
        "        leap_year = False\n",
        "\n",
        "# Display the number of days in February for the given year\n",
        "if leap_year:\n",
        "    print(f\"In {year}, February has 29 days.\")\n",
        "else:\n",
        "    print(f\"In {year}, February has 28 days.\")"
      ],
      "metadata": {
        "colab": {
          "base_uri": "https://localhost:8080/"
        },
        "id": "BumMNrSTxtNG",
        "outputId": "db7fd755-b747-4568-8e7b-f5450d8cf7f3"
      },
      "execution_count": 12,
      "outputs": [
        {
          "output_type": "stream",
          "name": "stdout",
          "text": [
            "Enter a year: 2022\n",
            "In 2022, February has 28 days.\n"
          ]
        }
      ]
    },
    {
      "cell_type": "markdown",
      "source": [
        "Programming exercises question 18"
      ],
      "metadata": {
        "id": "6RbRbxyZyxtG"
      }
    },
    {
      "cell_type": "markdown",
      "source": [
        "Enhance the hit_he_target. py program that you saw in I rogram 3-10 so that, when the projectile misses the target, it displays hints to the user indicating whether the angle and / or the force value should be increased or decreased. For example, the program should display messages such as 'Try a greater angle' and 'Use less force.'"
      ],
      "metadata": {
        "id": "hW6fuO1Ny5eO"
      }
    },
    {
      "cell_type": "markdown",
      "source": [
        "High-Level Overview: I learned how to enhance the hit_the_target.py program from Chapter 3 of \"Pearson eText for Starting Out With Python, 6e.\" This chapter covers decision structures, including if, else, and elif statements. By studying the examples and exercises in sections 3.1 through 3.3, I gained the skills to not only determine if the projectile hits the target but also provide hints to the user for adjusting the angle and force when the target is missed."
      ],
      "metadata": {
        "id": "6meqr4vP1KBl"
      }
    },
    {
      "cell_type": "code",
      "source": [
        "import math\n",
        "\n",
        "# Constants\n",
        "TARGET_DISTANCE = 100  # Distance to the target in meters\n",
        "TARGET_SIZE = 10       # Size of the target in meters (±5 meters around the TARGET_DISTANCE)\n",
        "GRAVITY = 9.8          # Acceleration due to gravity in m/s^2\n",
        "\n",
        "def main():\n",
        "    # Get the angle and force from the user\n",
        "    angle = float(input(\"Enter the angle of the projectile (in degrees): \"))\n",
        "    force = float(input(\"Enter the force of the projectile: \"))\n",
        "\n",
        "    # Calculate the distance the projectile will travel\n",
        "    distance = calculate_distance(angle, force)\n",
        "\n",
        "    # Check if the projectile hit the target and provide feedback\n",
        "    if TARGET_DISTANCE - TARGET_SIZE/2 <= distance <= TARGET_DISTANCE + TARGET_SIZE/2:\n",
        "        print(\"Congratulations! You hit the target.\")\n",
        "    else:\n",
        "        print(\"You missed the target.\")\n",
        "        give_hints(angle, force, distance)\n",
        "\n",
        "def calculate_distance(angle, force):\n",
        "    # Convert the angle to radians\n",
        "    angle_rad = math.radians(angle)\n",
        "\n",
        "    # Calculate the distance the projectile will travel\n",
        "    distance = (force**2) * math.sin(2 * angle_rad) / GRAVITY\n",
        "    return distance\n",
        "\n",
        "def give_hints(angle, force, distance):\n",
        "    if distance < TARGET_DISTANCE:\n",
        "        print(\"Try a greater angle\" if angle < 45 else \"Try a greater force\")\n",
        "    else:\n",
        "        print(\"Try a lesser angle\" if angle > 45 else \"Try a lesser force\")\n",
        "\n",
        "    # Additional hints to help fine-tune the shot\n",
        "    if distance < TARGET_DISTANCE:\n",
        "        print(\"You need to increase your force or angle.\")\n",
        "    else:\n",
        "        print(\"You need to decrease your force or angle.\")\n",
        "\n",
        "# Run the main function\n",
        "if __name__ == \"__main__\":\n",
        "    main()"
      ],
      "metadata": {
        "colab": {
          "base_uri": "https://localhost:8080/"
        },
        "id": "LZfGZOlVyh-t",
        "outputId": "58b4d627-35c7-4b0c-8701-21116ed93fb1"
      },
      "execution_count": 14,
      "outputs": [
        {
          "output_type": "stream",
          "name": "stdout",
          "text": [
            "Enter the angle of the projectile (in degrees): 10\n",
            "Enter the force of the projectile: 25\n",
            "You missed the target.\n",
            "Try a greater angle\n",
            "You need to increase your force or angle.\n"
          ]
        }
      ]
    },
    {
      "cell_type": "code",
      "source": [],
      "metadata": {
        "id": "-UNKoUGOzEUt"
      },
      "execution_count": 14,
      "outputs": []
    }
  ]
}